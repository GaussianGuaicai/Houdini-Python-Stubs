{
 "cells": [
  {
   "cell_type": "markdown",
   "metadata": {},
   "source": [
    "# Load HTML Datas"
   ]
  },
  {
   "cell_type": "code",
   "execution_count": null,
   "metadata": {},
   "outputs": [],
   "source": [
    "filepath = 'T:/_p_d_g___work_item_8h_source.html'\n",
    "file = open(filepath)\n",
    "data = file.read()\n",
    "file.close()"
   ]
  },
  {
   "cell_type": "markdown",
   "metadata": {},
   "source": [
    "# Beautiful Soup"
   ]
  },
  {
   "cell_type": "code",
   "execution_count": null,
   "metadata": {},
   "outputs": [],
   "source": [
    "from bs4 import BeautifulSoup,Tag"
   ]
  },
  {
   "cell_type": "code",
   "execution_count": null,
   "metadata": {},
   "outputs": [],
   "source": [
    "soup = BeautifulSoup(data, 'html.parser')"
   ]
  },
  {
   "cell_type": "code",
   "execution_count": null,
   "metadata": {},
   "outputs": [],
   "source": [
    "code_lines = []\n",
    "tag = soup.find('div',class_=[\"fragment\"])\n",
    "sub_tags = tag.find_all('div',class_='line')\n",
    "for sub_tag in sub_tags:\n",
    "    sub_tag:Tag\n",
    "    code_tags = list(sub_tag.children)[2:]\n",
    "\n",
    "    # print(code_tags[0])\n",
    "\n",
    "    line = ''\n",
    "    for code_tag in code_tags:\n",
    "        text = code_tag.get_text().removeprefix('\\xa0')\n",
    "\n",
    "        if text.startswith('#') is True:\n",
    "            break\n",
    "        \n",
    "        line += text\n",
    "    code_lines.append(line+'\\n')"
   ]
  },
  {
   "cell_type": "code",
   "execution_count": null,
   "metadata": {},
   "outputs": [],
   "source": [
    "with open(\"out_header.h\",'+w') as out_file:\n",
    "    out_file.writelines(code_lines)"
   ]
  },
  {
   "cell_type": "markdown",
   "metadata": {},
   "source": [
    "# CXXHeaderParser"
   ]
  },
  {
   "cell_type": "code",
   "execution_count": null,
   "metadata": {},
   "outputs": [],
   "source": [
    "import cxxheaderparser.simple as cxx\n",
    "from cxxheaderparser.options import ParserOptions\n",
    "\n",
    "code_string = ''.join(code_lines)\n",
    "parse_data = cxx.parse_string(code_string)\n",
    "\n",
    "print(parse_data)"
   ]
  }
 ],
 "metadata": {
  "kernelspec": {
   "display_name": ".venv",
   "language": "python",
   "name": "python3"
  },
  "language_info": {
   "codemirror_mode": {
    "name": "ipython",
    "version": 3
   },
   "file_extension": ".py",
   "mimetype": "text/x-python",
   "name": "python",
   "nbconvert_exporter": "python",
   "pygments_lexer": "ipython3",
   "version": "3.9.12"
  }
 },
 "nbformat": 4,
 "nbformat_minor": 2
}
